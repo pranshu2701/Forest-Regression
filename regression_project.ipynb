{
  "nbformat": 4,
  "nbformat_minor": 0,
  "metadata": {
    "colab": {
      "name": "Ma515_project.ipynb",
      "provenance": []
    },
    "kernelspec": {
      "name": "python3",
      "display_name": "Python 3"
    },
    "language_info": {
      "name": "python"
    }
  },
  "cells": [
    {
      "cell_type": "code",
      "metadata": {
        "id": "fgz6ZYWamru6"
      },
      "source": [
        "import pandas as pd\n",
        "import numpy as np\n",
        "import joblib\n",
        "import seaborn as sns\n",
        "import matplotlib.pyplot as plt\n",
        "from sklearn.preprocessing import LabelEncoder\n",
        "from sklearn.ensemble import RandomForestRegressor"
      ],
      "execution_count": 1,
      "outputs": []
    },
    {
      "cell_type": "markdown",
      "metadata": {
        "id": "XM73LRyaJFmQ"
      },
      "source": [
        "Import The dataset"
      ]
    },
    {
      "cell_type": "code",
      "metadata": {
        "colab": {
          "base_uri": "https://localhost:8080/",
          "height": 206
        },
        "id": "pAOdWo4r0SHc",
        "outputId": "36fe6201-8ad2-4d86-9497-70bbfc762f83"
      },
      "source": [
        "df = pd.read_csv(\"Hitters.csv\")\n",
        "df.head()"
      ],
      "execution_count": 2,
      "outputs": [
        {
          "output_type": "execute_result",
          "data": {
            "text/html": [
              "<div>\n",
              "<style scoped>\n",
              "    .dataframe tbody tr th:only-of-type {\n",
              "        vertical-align: middle;\n",
              "    }\n",
              "\n",
              "    .dataframe tbody tr th {\n",
              "        vertical-align: top;\n",
              "    }\n",
              "\n",
              "    .dataframe thead th {\n",
              "        text-align: right;\n",
              "    }\n",
              "</style>\n",
              "<table border=\"1\" class=\"dataframe\">\n",
              "  <thead>\n",
              "    <tr style=\"text-align: right;\">\n",
              "      <th></th>\n",
              "      <th>Unnamed: 0</th>\n",
              "      <th>AtBat</th>\n",
              "      <th>Hits</th>\n",
              "      <th>HmRun</th>\n",
              "      <th>Runs</th>\n",
              "      <th>RBI</th>\n",
              "      <th>Walks</th>\n",
              "      <th>Years</th>\n",
              "      <th>CAtBat</th>\n",
              "      <th>CHits</th>\n",
              "      <th>CHmRun</th>\n",
              "      <th>CRuns</th>\n",
              "      <th>CRBI</th>\n",
              "      <th>CWalks</th>\n",
              "      <th>League</th>\n",
              "      <th>Division</th>\n",
              "      <th>PutOuts</th>\n",
              "      <th>Assists</th>\n",
              "      <th>Errors</th>\n",
              "      <th>Salary</th>\n",
              "      <th>NewLeague</th>\n",
              "    </tr>\n",
              "  </thead>\n",
              "  <tbody>\n",
              "    <tr>\n",
              "      <th>0</th>\n",
              "      <td>-Andy Allanson</td>\n",
              "      <td>293</td>\n",
              "      <td>66</td>\n",
              "      <td>1</td>\n",
              "      <td>30</td>\n",
              "      <td>29</td>\n",
              "      <td>14</td>\n",
              "      <td>1</td>\n",
              "      <td>293</td>\n",
              "      <td>66</td>\n",
              "      <td>1</td>\n",
              "      <td>30</td>\n",
              "      <td>29</td>\n",
              "      <td>14</td>\n",
              "      <td>A</td>\n",
              "      <td>E</td>\n",
              "      <td>446</td>\n",
              "      <td>33</td>\n",
              "      <td>20</td>\n",
              "      <td>NaN</td>\n",
              "      <td>A</td>\n",
              "    </tr>\n",
              "    <tr>\n",
              "      <th>1</th>\n",
              "      <td>-Alan Ashby</td>\n",
              "      <td>315</td>\n",
              "      <td>81</td>\n",
              "      <td>7</td>\n",
              "      <td>24</td>\n",
              "      <td>38</td>\n",
              "      <td>39</td>\n",
              "      <td>14</td>\n",
              "      <td>3449</td>\n",
              "      <td>835</td>\n",
              "      <td>69</td>\n",
              "      <td>321</td>\n",
              "      <td>414</td>\n",
              "      <td>375</td>\n",
              "      <td>N</td>\n",
              "      <td>W</td>\n",
              "      <td>632</td>\n",
              "      <td>43</td>\n",
              "      <td>10</td>\n",
              "      <td>475.0</td>\n",
              "      <td>N</td>\n",
              "    </tr>\n",
              "    <tr>\n",
              "      <th>2</th>\n",
              "      <td>-Alvin Davis</td>\n",
              "      <td>479</td>\n",
              "      <td>130</td>\n",
              "      <td>18</td>\n",
              "      <td>66</td>\n",
              "      <td>72</td>\n",
              "      <td>76</td>\n",
              "      <td>3</td>\n",
              "      <td>1624</td>\n",
              "      <td>457</td>\n",
              "      <td>63</td>\n",
              "      <td>224</td>\n",
              "      <td>266</td>\n",
              "      <td>263</td>\n",
              "      <td>A</td>\n",
              "      <td>W</td>\n",
              "      <td>880</td>\n",
              "      <td>82</td>\n",
              "      <td>14</td>\n",
              "      <td>480.0</td>\n",
              "      <td>A</td>\n",
              "    </tr>\n",
              "    <tr>\n",
              "      <th>3</th>\n",
              "      <td>-Andre Dawson</td>\n",
              "      <td>496</td>\n",
              "      <td>141</td>\n",
              "      <td>20</td>\n",
              "      <td>65</td>\n",
              "      <td>78</td>\n",
              "      <td>37</td>\n",
              "      <td>11</td>\n",
              "      <td>5628</td>\n",
              "      <td>1575</td>\n",
              "      <td>225</td>\n",
              "      <td>828</td>\n",
              "      <td>838</td>\n",
              "      <td>354</td>\n",
              "      <td>N</td>\n",
              "      <td>E</td>\n",
              "      <td>200</td>\n",
              "      <td>11</td>\n",
              "      <td>3</td>\n",
              "      <td>500.0</td>\n",
              "      <td>N</td>\n",
              "    </tr>\n",
              "    <tr>\n",
              "      <th>4</th>\n",
              "      <td>-Andres Galarraga</td>\n",
              "      <td>321</td>\n",
              "      <td>87</td>\n",
              "      <td>10</td>\n",
              "      <td>39</td>\n",
              "      <td>42</td>\n",
              "      <td>30</td>\n",
              "      <td>2</td>\n",
              "      <td>396</td>\n",
              "      <td>101</td>\n",
              "      <td>12</td>\n",
              "      <td>48</td>\n",
              "      <td>46</td>\n",
              "      <td>33</td>\n",
              "      <td>N</td>\n",
              "      <td>E</td>\n",
              "      <td>805</td>\n",
              "      <td>40</td>\n",
              "      <td>4</td>\n",
              "      <td>91.5</td>\n",
              "      <td>N</td>\n",
              "    </tr>\n",
              "  </tbody>\n",
              "</table>\n",
              "</div>"
            ],
            "text/plain": [
              "          Unnamed: 0  AtBat  Hits  HmRun  ...  Assists  Errors  Salary  NewLeague\n",
              "0     -Andy Allanson    293    66      1  ...       33      20     NaN          A\n",
              "1        -Alan Ashby    315    81      7  ...       43      10   475.0          N\n",
              "2       -Alvin Davis    479   130     18  ...       82      14   480.0          A\n",
              "3      -Andre Dawson    496   141     20  ...       11       3   500.0          N\n",
              "4  -Andres Galarraga    321    87     10  ...       40       4    91.5          N\n",
              "\n",
              "[5 rows x 21 columns]"
            ]
          },
          "metadata": {},
          "execution_count": 2
        }
      ]
    },
    {
      "cell_type": "code",
      "metadata": {
        "colab": {
          "base_uri": "https://localhost:8080/"
        },
        "id": "lWSVC9PU4Bde",
        "outputId": "983f7e0f-fb2d-44a7-a4f3-c2f6f17b1492"
      },
      "source": [
        "df.shape"
      ],
      "execution_count": 3,
      "outputs": [
        {
          "output_type": "execute_result",
          "data": {
            "text/plain": [
              "(322, 21)"
            ]
          },
          "metadata": {},
          "execution_count": 3
        }
      ]
    },
    {
      "cell_type": "markdown",
      "metadata": {
        "id": "7jxEJiPbJJVq"
      },
      "source": [
        "Remove the Column Unnamed from dataset which consist of Names of players"
      ]
    },
    {
      "cell_type": "code",
      "metadata": {
        "id": "xiHmUaMq4NUX"
      },
      "source": [
        "df.drop(columns=\"Unnamed: 0\",axis = 1, inplace=True)"
      ],
      "execution_count": 4,
      "outputs": []
    },
    {
      "cell_type": "code",
      "metadata": {
        "colab": {
          "base_uri": "https://localhost:8080/",
          "height": 1000
        },
        "id": "_KnLpiBJ0SjD",
        "outputId": "946585f8-bb8b-4e94-eb97-1739d6808174"
      },
      "source": [
        "df.info()\n",
        "df.shape  # There are 322 observation and 20 variables.\n",
        "df.isnull().sum() \n",
        "df.describe([0.05, 0.25, 0.50, 0.75, 0.95, 0.99]).T"
      ],
      "execution_count": 5,
      "outputs": [
        {
          "output_type": "stream",
          "name": "stdout",
          "text": [
            "<class 'pandas.core.frame.DataFrame'>\n",
            "RangeIndex: 322 entries, 0 to 321\n",
            "Data columns (total 20 columns):\n",
            " #   Column     Non-Null Count  Dtype  \n",
            "---  ------     --------------  -----  \n",
            " 0   AtBat      322 non-null    int64  \n",
            " 1   Hits       322 non-null    int64  \n",
            " 2   HmRun      322 non-null    int64  \n",
            " 3   Runs       322 non-null    int64  \n",
            " 4   RBI        322 non-null    int64  \n",
            " 5   Walks      322 non-null    int64  \n",
            " 6   Years      322 non-null    int64  \n",
            " 7   CAtBat     322 non-null    int64  \n",
            " 8   CHits      322 non-null    int64  \n",
            " 9   CHmRun     322 non-null    int64  \n",
            " 10  CRuns      322 non-null    int64  \n",
            " 11  CRBI       322 non-null    int64  \n",
            " 12  CWalks     322 non-null    int64  \n",
            " 13  League     322 non-null    object \n",
            " 14  Division   322 non-null    object \n",
            " 15  PutOuts    322 non-null    int64  \n",
            " 16  Assists    322 non-null    int64  \n",
            " 17  Errors     322 non-null    int64  \n",
            " 18  Salary     263 non-null    float64\n",
            " 19  NewLeague  322 non-null    object \n",
            "dtypes: float64(1), int64(16), object(3)\n",
            "memory usage: 50.4+ KB\n"
          ]
        },
        {
          "output_type": "execute_result",
          "data": {
            "text/html": [
              "<div>\n",
              "<style scoped>\n",
              "    .dataframe tbody tr th:only-of-type {\n",
              "        vertical-align: middle;\n",
              "    }\n",
              "\n",
              "    .dataframe tbody tr th {\n",
              "        vertical-align: top;\n",
              "    }\n",
              "\n",
              "    .dataframe thead th {\n",
              "        text-align: right;\n",
              "    }\n",
              "</style>\n",
              "<table border=\"1\" class=\"dataframe\">\n",
              "  <thead>\n",
              "    <tr style=\"text-align: right;\">\n",
              "      <th></th>\n",
              "      <th>count</th>\n",
              "      <th>mean</th>\n",
              "      <th>std</th>\n",
              "      <th>min</th>\n",
              "      <th>5%</th>\n",
              "      <th>25%</th>\n",
              "      <th>50%</th>\n",
              "      <th>75%</th>\n",
              "      <th>95%</th>\n",
              "      <th>99%</th>\n",
              "      <th>max</th>\n",
              "    </tr>\n",
              "  </thead>\n",
              "  <tbody>\n",
              "    <tr>\n",
              "      <th>AtBat</th>\n",
              "      <td>322.0</td>\n",
              "      <td>380.928571</td>\n",
              "      <td>153.404981</td>\n",
              "      <td>16.0</td>\n",
              "      <td>161.00</td>\n",
              "      <td>255.25</td>\n",
              "      <td>379.5</td>\n",
              "      <td>512.00</td>\n",
              "      <td>609.90</td>\n",
              "      <td>658.59000</td>\n",
              "      <td>687.0</td>\n",
              "    </tr>\n",
              "    <tr>\n",
              "      <th>Hits</th>\n",
              "      <td>322.0</td>\n",
              "      <td>101.024845</td>\n",
              "      <td>46.454741</td>\n",
              "      <td>1.0</td>\n",
              "      <td>39.00</td>\n",
              "      <td>64.00</td>\n",
              "      <td>96.0</td>\n",
              "      <td>137.00</td>\n",
              "      <td>174.00</td>\n",
              "      <td>210.79000</td>\n",
              "      <td>238.0</td>\n",
              "    </tr>\n",
              "    <tr>\n",
              "      <th>HmRun</th>\n",
              "      <td>322.0</td>\n",
              "      <td>10.770186</td>\n",
              "      <td>8.709037</td>\n",
              "      <td>0.0</td>\n",
              "      <td>0.00</td>\n",
              "      <td>4.00</td>\n",
              "      <td>8.0</td>\n",
              "      <td>16.00</td>\n",
              "      <td>28.95</td>\n",
              "      <td>33.00000</td>\n",
              "      <td>40.0</td>\n",
              "    </tr>\n",
              "    <tr>\n",
              "      <th>Runs</th>\n",
              "      <td>322.0</td>\n",
              "      <td>50.909938</td>\n",
              "      <td>26.024095</td>\n",
              "      <td>0.0</td>\n",
              "      <td>17.00</td>\n",
              "      <td>30.25</td>\n",
              "      <td>48.0</td>\n",
              "      <td>69.00</td>\n",
              "      <td>94.00</td>\n",
              "      <td>107.79000</td>\n",
              "      <td>130.0</td>\n",
              "    </tr>\n",
              "    <tr>\n",
              "      <th>RBI</th>\n",
              "      <td>322.0</td>\n",
              "      <td>48.027950</td>\n",
              "      <td>26.166895</td>\n",
              "      <td>0.0</td>\n",
              "      <td>14.00</td>\n",
              "      <td>28.00</td>\n",
              "      <td>44.0</td>\n",
              "      <td>64.75</td>\n",
              "      <td>96.00</td>\n",
              "      <td>112.37000</td>\n",
              "      <td>121.0</td>\n",
              "    </tr>\n",
              "    <tr>\n",
              "      <th>Walks</th>\n",
              "      <td>322.0</td>\n",
              "      <td>38.742236</td>\n",
              "      <td>21.639327</td>\n",
              "      <td>0.0</td>\n",
              "      <td>11.05</td>\n",
              "      <td>22.00</td>\n",
              "      <td>35.0</td>\n",
              "      <td>53.00</td>\n",
              "      <td>78.00</td>\n",
              "      <td>93.58000</td>\n",
              "      <td>105.0</td>\n",
              "    </tr>\n",
              "    <tr>\n",
              "      <th>Years</th>\n",
              "      <td>322.0</td>\n",
              "      <td>7.444099</td>\n",
              "      <td>4.926087</td>\n",
              "      <td>1.0</td>\n",
              "      <td>1.00</td>\n",
              "      <td>4.00</td>\n",
              "      <td>6.0</td>\n",
              "      <td>11.00</td>\n",
              "      <td>17.00</td>\n",
              "      <td>19.79000</td>\n",
              "      <td>24.0</td>\n",
              "    </tr>\n",
              "    <tr>\n",
              "      <th>CAtBat</th>\n",
              "      <td>322.0</td>\n",
              "      <td>2648.683230</td>\n",
              "      <td>2324.205870</td>\n",
              "      <td>19.0</td>\n",
              "      <td>216.50</td>\n",
              "      <td>816.75</td>\n",
              "      <td>1928.0</td>\n",
              "      <td>3924.25</td>\n",
              "      <td>7125.60</td>\n",
              "      <td>8749.97000</td>\n",
              "      <td>14053.0</td>\n",
              "    </tr>\n",
              "    <tr>\n",
              "      <th>CHits</th>\n",
              "      <td>322.0</td>\n",
              "      <td>717.571429</td>\n",
              "      <td>654.472627</td>\n",
              "      <td>4.0</td>\n",
              "      <td>54.00</td>\n",
              "      <td>209.00</td>\n",
              "      <td>508.0</td>\n",
              "      <td>1059.25</td>\n",
              "      <td>2017.15</td>\n",
              "      <td>2500.34000</td>\n",
              "      <td>4256.0</td>\n",
              "    </tr>\n",
              "    <tr>\n",
              "      <th>CHmRun</th>\n",
              "      <td>322.0</td>\n",
              "      <td>69.490683</td>\n",
              "      <td>86.266061</td>\n",
              "      <td>0.0</td>\n",
              "      <td>2.00</td>\n",
              "      <td>14.00</td>\n",
              "      <td>37.5</td>\n",
              "      <td>90.00</td>\n",
              "      <td>265.65</td>\n",
              "      <td>373.12000</td>\n",
              "      <td>548.0</td>\n",
              "    </tr>\n",
              "    <tr>\n",
              "      <th>CRuns</th>\n",
              "      <td>322.0</td>\n",
              "      <td>358.795031</td>\n",
              "      <td>334.105886</td>\n",
              "      <td>1.0</td>\n",
              "      <td>27.00</td>\n",
              "      <td>100.25</td>\n",
              "      <td>247.0</td>\n",
              "      <td>526.25</td>\n",
              "      <td>1032.30</td>\n",
              "      <td>1174.37000</td>\n",
              "      <td>2165.0</td>\n",
              "    </tr>\n",
              "    <tr>\n",
              "      <th>CRBI</th>\n",
              "      <td>322.0</td>\n",
              "      <td>330.118012</td>\n",
              "      <td>333.219617</td>\n",
              "      <td>0.0</td>\n",
              "      <td>22.05</td>\n",
              "      <td>88.75</td>\n",
              "      <td>220.5</td>\n",
              "      <td>426.25</td>\n",
              "      <td>1071.75</td>\n",
              "      <td>1310.85000</td>\n",
              "      <td>1659.0</td>\n",
              "    </tr>\n",
              "    <tr>\n",
              "      <th>CWalks</th>\n",
              "      <td>322.0</td>\n",
              "      <td>260.239130</td>\n",
              "      <td>267.058085</td>\n",
              "      <td>0.0</td>\n",
              "      <td>15.05</td>\n",
              "      <td>67.25</td>\n",
              "      <td>170.5</td>\n",
              "      <td>339.25</td>\n",
              "      <td>817.60</td>\n",
              "      <td>1139.14000</td>\n",
              "      <td>1566.0</td>\n",
              "    </tr>\n",
              "    <tr>\n",
              "      <th>PutOuts</th>\n",
              "      <td>322.0</td>\n",
              "      <td>288.937888</td>\n",
              "      <td>280.704614</td>\n",
              "      <td>0.0</td>\n",
              "      <td>33.20</td>\n",
              "      <td>109.25</td>\n",
              "      <td>212.0</td>\n",
              "      <td>325.00</td>\n",
              "      <td>910.65</td>\n",
              "      <td>1301.19000</td>\n",
              "      <td>1378.0</td>\n",
              "    </tr>\n",
              "    <tr>\n",
              "      <th>Assists</th>\n",
              "      <td>322.0</td>\n",
              "      <td>106.913043</td>\n",
              "      <td>136.854876</td>\n",
              "      <td>0.0</td>\n",
              "      <td>0.00</td>\n",
              "      <td>7.00</td>\n",
              "      <td>39.5</td>\n",
              "      <td>166.00</td>\n",
              "      <td>431.45</td>\n",
              "      <td>478.16000</td>\n",
              "      <td>492.0</td>\n",
              "    </tr>\n",
              "    <tr>\n",
              "      <th>Errors</th>\n",
              "      <td>322.0</td>\n",
              "      <td>8.040373</td>\n",
              "      <td>6.368359</td>\n",
              "      <td>0.0</td>\n",
              "      <td>0.00</td>\n",
              "      <td>3.00</td>\n",
              "      <td>6.0</td>\n",
              "      <td>11.00</td>\n",
              "      <td>20.00</td>\n",
              "      <td>25.79000</td>\n",
              "      <td>32.0</td>\n",
              "    </tr>\n",
              "    <tr>\n",
              "      <th>Salary</th>\n",
              "      <td>263.0</td>\n",
              "      <td>535.925882</td>\n",
              "      <td>451.118681</td>\n",
              "      <td>67.5</td>\n",
              "      <td>86.60</td>\n",
              "      <td>190.00</td>\n",
              "      <td>425.0</td>\n",
              "      <td>750.00</td>\n",
              "      <td>1346.00</td>\n",
              "      <td>2032.88654</td>\n",
              "      <td>2460.0</td>\n",
              "    </tr>\n",
              "  </tbody>\n",
              "</table>\n",
              "</div>"
            ],
            "text/plain": [
              "         count         mean          std  ...      95%         99%      max\n",
              "AtBat    322.0   380.928571   153.404981  ...   609.90   658.59000    687.0\n",
              "Hits     322.0   101.024845    46.454741  ...   174.00   210.79000    238.0\n",
              "HmRun    322.0    10.770186     8.709037  ...    28.95    33.00000     40.0\n",
              "Runs     322.0    50.909938    26.024095  ...    94.00   107.79000    130.0\n",
              "RBI      322.0    48.027950    26.166895  ...    96.00   112.37000    121.0\n",
              "Walks    322.0    38.742236    21.639327  ...    78.00    93.58000    105.0\n",
              "Years    322.0     7.444099     4.926087  ...    17.00    19.79000     24.0\n",
              "CAtBat   322.0  2648.683230  2324.205870  ...  7125.60  8749.97000  14053.0\n",
              "CHits    322.0   717.571429   654.472627  ...  2017.15  2500.34000   4256.0\n",
              "CHmRun   322.0    69.490683    86.266061  ...   265.65   373.12000    548.0\n",
              "CRuns    322.0   358.795031   334.105886  ...  1032.30  1174.37000   2165.0\n",
              "CRBI     322.0   330.118012   333.219617  ...  1071.75  1310.85000   1659.0\n",
              "CWalks   322.0   260.239130   267.058085  ...   817.60  1139.14000   1566.0\n",
              "PutOuts  322.0   288.937888   280.704614  ...   910.65  1301.19000   1378.0\n",
              "Assists  322.0   106.913043   136.854876  ...   431.45   478.16000    492.0\n",
              "Errors   322.0     8.040373     6.368359  ...    20.00    25.79000     32.0\n",
              "Salary   263.0   535.925882   451.118681  ...  1346.00  2032.88654   2460.0\n",
              "\n",
              "[17 rows x 11 columns]"
            ]
          },
          "metadata": {},
          "execution_count": 5
        }
      ]
    },
    {
      "cell_type": "markdown",
      "metadata": {
        "id": "9wvdnYoEJU4C"
      },
      "source": [
        "Correlation Matrix here presents the Dependancy of variables"
      ]
    },
    {
      "cell_type": "code",
      "metadata": {
        "colab": {
          "base_uri": "https://localhost:8080/",
          "height": 520
        },
        "id": "SL00fszTAHUd",
        "outputId": "af1efb27-f535-438a-8486-77c7690268de"
      },
      "source": [
        "fig = plt.gcf()\n",
        "fig.set_size_inches(10, 8)\n",
        "plt.xticks(fontsize=10)\n",
        "plt.yticks(fontsize=10)\n",
        "fig = sns.heatmap(df.corr(), annot=True, linewidths=0.5, annot_kws={'size': 12}, linecolor='w', cmap='RdBu')\n",
        "plt.show(block=True)"
      ],
      "execution_count": 14,
      "outputs": [
        {
          "output_type": "display_data",
          "data": {
            "image/png": "[encoded data removed]",
            "text/plain": [
              "<Figure size 720x576 with 2 Axes>"
            ]
          },
          "metadata": {
            "needs_background": "light"
          }
        }
      ]
    },
    {
      "cell_type": "code",
      "metadata": {
        "id": "lubeN-i61OV0"
      },
      "source": [
        "df.dropna(inplace=True)"
      ],
      "execution_count": 16,
      "outputs": []
    },
    {
      "cell_type": "code",
      "metadata": {
        "colab": {
          "base_uri": "https://localhost:8080/",
          "height": 279
        },
        "id": "sGPRTL_V1ZsS",
        "outputId": "e36a7569-60d6-425a-fed8-f89602760ecb"
      },
      "source": [
        "sns.boxplot(x=df[\"Salary\"])\n",
        "plt.show()"
      ],
      "execution_count": 17,
      "outputs": [
        {
          "output_type": "display_data",
          "data": {
            "image/png": "[encoded data removed]",
            "text/plain": [
              "<Figure size 432x288 with 1 Axes>"
            ]
          },
          "metadata": {
            "needs_background": "light"
          }
        }
      ]
    },
    {
      "cell_type": "markdown",
      "metadata": {
        "id": "3yVWEdhEJb-1"
      },
      "source": [
        "Presenting only Salary satisfuying a specific criteria"
      ]
    },
    {
      "cell_type": "code",
      "metadata": {
        "id": "ouZxkjh01cXn"
      },
      "source": [
        "q3 = 0.90\n",
        "salary_up = int(df[\"Salary\"].quantile(q3))\n",
        "df = df[(df[\"Salary\"] < salary_up)]"
      ],
      "execution_count": 18,
      "outputs": []
    },
    {
      "cell_type": "code",
      "metadata": {
        "colab": {
          "base_uri": "https://localhost:8080/",
          "height": 279
        },
        "id": "jziJ7a0f1evK",
        "outputId": "204e77f9-9102-48ef-f513-e4f8ae68a421"
      },
      "source": [
        "sns.boxplot(x=df[\"Salary\"])\n",
        "plt.show()"
      ],
      "execution_count": 19,
      "outputs": [
        {
          "output_type": "display_data",
          "data": {
            "image/png": "[encoded data removed]",
            "text/plain": [
              "<Figure size 432x288 with 1 Axes>"
            ]
          },
          "metadata": {
            "needs_background": "light"
          }
        }
      ]
    },
    {
      "cell_type": "markdown",
      "metadata": {
        "id": "3dp1QhjTJiua"
      },
      "source": [
        "Encoder to perform Qualitative values into Numerical"
      ]
    },
    {
      "cell_type": "code",
      "metadata": {
        "id": "kkia3M0Q1k4D"
      },
      "source": [
        "binary_cols = [col for col in df.columns if df[col].dtype not in [int, float] and df[col].nunique() == 2]\n",
        "for col in binary_cols:\n",
        "    labelencoder = LabelEncoder()\n",
        "    df[col] = labelencoder.fit_transform(df[col])"
      ],
      "execution_count": 20,
      "outputs": []
    },
    {
      "cell_type": "code",
      "metadata": {
        "colab": {
          "base_uri": "https://localhost:8080/",
          "height": 206
        },
        "id": "TKw79NVO1qTe",
        "outputId": "62c0f5f7-479b-4719-9970-5e53fa776309"
      },
      "source": [
        "df.head()"
      ],
      "execution_count": 21,
      "outputs": [
        {
          "output_type": "execute_result",
          "data": {
            "text/html": [
              "<div>\n",
              "<style scoped>\n",
              "    .dataframe tbody tr th:only-of-type {\n",
              "        vertical-align: middle;\n",
              "    }\n",
              "\n",
              "    .dataframe tbody tr th {\n",
              "        vertical-align: top;\n",
              "    }\n",
              "\n",
              "    .dataframe thead th {\n",
              "        text-align: right;\n",
              "    }\n",
              "</style>\n",
              "<table border=\"1\" class=\"dataframe\">\n",
              "  <thead>\n",
              "    <tr style=\"text-align: right;\">\n",
              "      <th></th>\n",
              "      <th>AtBat</th>\n",
              "      <th>Hits</th>\n",
              "      <th>HmRun</th>\n",
              "      <th>Runs</th>\n",
              "      <th>RBI</th>\n",
              "      <th>Walks</th>\n",
              "      <th>Years</th>\n",
              "      <th>CAtBat</th>\n",
              "      <th>CHits</th>\n",
              "      <th>CHmRun</th>\n",
              "      <th>CRuns</th>\n",
              "      <th>CRBI</th>\n",
              "      <th>CWalks</th>\n",
              "      <th>League</th>\n",
              "      <th>Division</th>\n",
              "      <th>PutOuts</th>\n",
              "      <th>Assists</th>\n",
              "      <th>Errors</th>\n",
              "      <th>Salary</th>\n",
              "      <th>NewLeague</th>\n",
              "    </tr>\n",
              "  </thead>\n",
              "  <tbody>\n",
              "    <tr>\n",
              "      <th>1</th>\n",
              "      <td>315</td>\n",
              "      <td>81</td>\n",
              "      <td>7</td>\n",
              "      <td>24</td>\n",
              "      <td>38</td>\n",
              "      <td>39</td>\n",
              "      <td>14</td>\n",
              "      <td>3449</td>\n",
              "      <td>835</td>\n",
              "      <td>69</td>\n",
              "      <td>321</td>\n",
              "      <td>414</td>\n",
              "      <td>375</td>\n",
              "      <td>1</td>\n",
              "      <td>1</td>\n",
              "      <td>632</td>\n",
              "      <td>43</td>\n",
              "      <td>10</td>\n",
              "      <td>475.0</td>\n",
              "      <td>1</td>\n",
              "    </tr>\n",
              "    <tr>\n",
              "      <th>2</th>\n",
              "      <td>479</td>\n",
              "      <td>130</td>\n",
              "      <td>18</td>\n",
              "      <td>66</td>\n",
              "      <td>72</td>\n",
              "      <td>76</td>\n",
              "      <td>3</td>\n",
              "      <td>1624</td>\n",
              "      <td>457</td>\n",
              "      <td>63</td>\n",
              "      <td>224</td>\n",
              "      <td>266</td>\n",
              "      <td>263</td>\n",
              "      <td>0</td>\n",
              "      <td>1</td>\n",
              "      <td>880</td>\n",
              "      <td>82</td>\n",
              "      <td>14</td>\n",
              "      <td>480.0</td>\n",
              "      <td>0</td>\n",
              "    </tr>\n",
              "    <tr>\n",
              "      <th>3</th>\n",
              "      <td>496</td>\n",
              "      <td>141</td>\n",
              "      <td>20</td>\n",
              "      <td>65</td>\n",
              "      <td>78</td>\n",
              "      <td>37</td>\n",
              "      <td>11</td>\n",
              "      <td>5628</td>\n",
              "      <td>1575</td>\n",
              "      <td>225</td>\n",
              "      <td>828</td>\n",
              "      <td>838</td>\n",
              "      <td>354</td>\n",
              "      <td>1</td>\n",
              "      <td>0</td>\n",
              "      <td>200</td>\n",
              "      <td>11</td>\n",
              "      <td>3</td>\n",
              "      <td>500.0</td>\n",
              "      <td>1</td>\n",
              "    </tr>\n",
              "    <tr>\n",
              "      <th>4</th>\n",
              "      <td>321</td>\n",
              "      <td>87</td>\n",
              "      <td>10</td>\n",
              "      <td>39</td>\n",
              "      <td>42</td>\n",
              "      <td>30</td>\n",
              "      <td>2</td>\n",
              "      <td>396</td>\n",
              "      <td>101</td>\n",
              "      <td>12</td>\n",
              "      <td>48</td>\n",
              "      <td>46</td>\n",
              "      <td>33</td>\n",
              "      <td>1</td>\n",
              "      <td>0</td>\n",
              "      <td>805</td>\n",
              "      <td>40</td>\n",
              "      <td>4</td>\n",
              "      <td>91.5</td>\n",
              "      <td>1</td>\n",
              "    </tr>\n",
              "    <tr>\n",
              "      <th>5</th>\n",
              "      <td>594</td>\n",
              "      <td>169</td>\n",
              "      <td>4</td>\n",
              "      <td>74</td>\n",
              "      <td>51</td>\n",
              "      <td>35</td>\n",
              "      <td>11</td>\n",
              "      <td>4408</td>\n",
              "      <td>1133</td>\n",
              "      <td>19</td>\n",
              "      <td>501</td>\n",
              "      <td>336</td>\n",
              "      <td>194</td>\n",
              "      <td>0</td>\n",
              "      <td>1</td>\n",
              "      <td>282</td>\n",
              "      <td>421</td>\n",
              "      <td>25</td>\n",
              "      <td>750.0</td>\n",
              "      <td>0</td>\n",
              "    </tr>\n",
              "  </tbody>\n",
              "</table>\n",
              "</div>"
            ],
            "text/plain": [
              "   AtBat  Hits  HmRun  Runs  RBI  ...  PutOuts  Assists  Errors  Salary  NewLeague\n",
              "1    315    81      7    24   38  ...      632       43      10   475.0          1\n",
              "2    479   130     18    66   72  ...      880       82      14   480.0          0\n",
              "3    496   141     20    65   78  ...      200       11       3   500.0          1\n",
              "4    321    87     10    39   42  ...      805       40       4    91.5          1\n",
              "5    594   169      4    74   51  ...      282      421      25   750.0          0\n",
              "\n",
              "[5 rows x 20 columns]"
            ]
          },
          "metadata": {},
          "execution_count": 21
        }
      ]
    },
    {
      "cell_type": "markdown",
      "metadata": {
        "id": "160wPQSmJseV"
      },
      "source": [
        "Normalising The Data"
      ]
    },
    {
      "cell_type": "code",
      "metadata": {
        "id": "gTBTOAPIBM_k"
      },
      "source": [
        "data = df.sub(df.mean())\n",
        "data = data/data.std()"
      ],
      "execution_count": 23,
      "outputs": []
    },
    {
      "cell_type": "code",
      "metadata": {
        "colab": {
          "base_uri": "https://localhost:8080/",
          "height": 206
        },
        "id": "iAp5X30pDe9A",
        "outputId": "e59cc71c-b611-4882-da54-1f5fa93c4a41"
      },
      "source": [
        "data.head()"
      ],
      "execution_count": 45,
      "outputs": [
        {
          "output_type": "execute_result",
          "data": {
            "text/html": [
              "<div>\n",
              "<style scoped>\n",
              "    .dataframe tbody tr th:only-of-type {\n",
              "        vertical-align: middle;\n",
              "    }\n",
              "\n",
              "    .dataframe tbody tr th {\n",
              "        vertical-align: top;\n",
              "    }\n",
              "\n",
              "    .dataframe thead th {\n",
              "        text-align: right;\n",
              "    }\n",
              "</style>\n",
              "<table border=\"1\" class=\"dataframe\">\n",
              "  <thead>\n",
              "    <tr style=\"text-align: right;\">\n",
              "      <th></th>\n",
              "      <th>AtBat</th>\n",
              "      <th>Hits</th>\n",
              "      <th>HmRun</th>\n",
              "      <th>Runs</th>\n",
              "      <th>RBI</th>\n",
              "      <th>Walks</th>\n",
              "      <th>Years</th>\n",
              "      <th>CAtBat</th>\n",
              "      <th>CHits</th>\n",
              "      <th>CHmRun</th>\n",
              "      <th>CRuns</th>\n",
              "      <th>CRBI</th>\n",
              "      <th>CWalks</th>\n",
              "      <th>League</th>\n",
              "      <th>Division</th>\n",
              "      <th>PutOuts</th>\n",
              "      <th>Assists</th>\n",
              "      <th>Errors</th>\n",
              "      <th>Salary</th>\n",
              "      <th>NewLeague</th>\n",
              "    </tr>\n",
              "  </thead>\n",
              "  <tbody>\n",
              "    <tr>\n",
              "      <th>1</th>\n",
              "      <td>-0.537945</td>\n",
              "      <td>-0.530446</td>\n",
              "      <td>-0.453749</td>\n",
              "      <td>-1.176222</td>\n",
              "      <td>-0.439375</td>\n",
              "      <td>0.017982</td>\n",
              "      <td>1.429498</td>\n",
              "      <td>0.435759</td>\n",
              "      <td>0.270827</td>\n",
              "      <td>0.131413</td>\n",
              "      <td>-0.023677</td>\n",
              "      <td>0.398586</td>\n",
              "      <td>0.549660</td>\n",
              "      <td>1.049977</td>\n",
              "      <td>0.908814</td>\n",
              "      <td>1.540518</td>\n",
              "      <td>-0.519603</td>\n",
              "      <td>0.207775</td>\n",
              "      <td>0.195967</td>\n",
              "      <td>1.058940</td>\n",
              "    </tr>\n",
              "    <tr>\n",
              "      <th>2</th>\n",
              "      <td>0.603287</td>\n",
              "      <td>0.613118</td>\n",
              "      <td>0.889390</td>\n",
              "      <td>0.583584</td>\n",
              "      <td>0.968591</td>\n",
              "      <td>1.843798</td>\n",
              "      <td>-0.847175</td>\n",
              "      <td>-0.378728</td>\n",
              "      <td>-0.330137</td>\n",
              "      <td>0.050367</td>\n",
              "      <td>-0.328355</td>\n",
              "      <td>-0.095498</td>\n",
              "      <td>0.107967</td>\n",
              "      <td>-0.948366</td>\n",
              "      <td>0.908814</td>\n",
              "      <td>2.579651</td>\n",
              "      <td>-0.254810</td>\n",
              "      <td>0.798556</td>\n",
              "      <td>0.213880</td>\n",
              "      <td>-0.940339</td>\n",
              "    </tr>\n",
              "    <tr>\n",
              "      <th>3</th>\n",
              "      <td>0.721585</td>\n",
              "      <td>0.869836</td>\n",
              "      <td>1.133598</td>\n",
              "      <td>0.541683</td>\n",
              "      <td>1.217055</td>\n",
              "      <td>-0.080711</td>\n",
              "      <td>0.808587</td>\n",
              "      <td>1.408233</td>\n",
              "      <td>1.447319</td>\n",
              "      <td>2.238592</td>\n",
              "      <td>1.568812</td>\n",
              "      <td>1.814068</td>\n",
              "      <td>0.466843</td>\n",
              "      <td>1.049977</td>\n",
              "      <td>-1.095673</td>\n",
              "      <td>-0.269584</td>\n",
              "      <td>-0.736870</td>\n",
              "      <td>-0.826092</td>\n",
              "      <td>0.285532</td>\n",
              "      <td>1.058940</td>\n",
              "    </tr>\n",
              "    <tr>\n",
              "      <th>4</th>\n",
              "      <td>-0.496193</td>\n",
              "      <td>-0.390418</td>\n",
              "      <td>-0.087439</td>\n",
              "      <td>-0.547720</td>\n",
              "      <td>-0.273732</td>\n",
              "      <td>-0.426135</td>\n",
              "      <td>-1.054145</td>\n",
              "      <td>-0.926777</td>\n",
              "      <td>-0.896125</td>\n",
              "      <td>-0.638518</td>\n",
              "      <td>-0.881171</td>\n",
              "      <td>-0.829947</td>\n",
              "      <td>-0.799082</td>\n",
              "      <td>1.049977</td>\n",
              "      <td>-1.095673</td>\n",
              "      <td>2.265397</td>\n",
              "      <td>-0.539972</td>\n",
              "      <td>-0.678397</td>\n",
              "      <td>-1.177953</td>\n",
              "      <td>1.058940</td>\n",
              "    </tr>\n",
              "    <tr>\n",
              "      <th>5</th>\n",
              "      <td>1.403541</td>\n",
              "      <td>1.523301</td>\n",
              "      <td>-0.820060</td>\n",
              "      <td>0.918785</td>\n",
              "      <td>0.098965</td>\n",
              "      <td>-0.179403</td>\n",
              "      <td>0.808587</td>\n",
              "      <td>0.863755</td>\n",
              "      <td>0.744604</td>\n",
              "      <td>-0.543965</td>\n",
              "      <td>0.541703</td>\n",
              "      <td>0.138190</td>\n",
              "      <td>-0.164148</td>\n",
              "      <td>-0.948366</td>\n",
              "      <td>0.908814</td>\n",
              "      <td>0.074001</td>\n",
              "      <td>2.046853</td>\n",
              "      <td>2.423204</td>\n",
              "      <td>1.181177</td>\n",
              "      <td>-0.940339</td>\n",
              "    </tr>\n",
              "  </tbody>\n",
              "</table>\n",
              "</div>"
            ],
            "text/plain": [
              "      AtBat      Hits     HmRun  ...    Errors    Salary  NewLeague\n",
              "1 -0.537945 -0.530446 -0.453749  ...  0.207775  0.195967   1.058940\n",
              "2  0.603287  0.613118  0.889390  ...  0.798556  0.213880  -0.940339\n",
              "3  0.721585  0.869836  1.133598  ... -0.826092  0.285532   1.058940\n",
              "4 -0.496193 -0.390418 -0.087439  ... -0.678397 -1.177953   1.058940\n",
              "5  1.403541  1.523301 -0.820060  ...  2.423204  1.181177  -0.940339\n",
              "\n",
              "[5 rows x 20 columns]"
            ]
          },
          "metadata": {},
          "execution_count": 45
        }
      ]
    },
    {
      "cell_type": "markdown",
      "metadata": {
        "id": "yjI4yxMTJu3v"
      },
      "source": [
        "Seperating the Salary column to an independent y data"
      ]
    },
    {
      "cell_type": "code",
      "metadata": {
        "id": "VnmT-_0I1w7o"
      },
      "source": [
        "y = data[\"Salary\"]\n",
        "X = data.drop([\"Salary\"], axis=1)"
      ],
      "execution_count": 24,
      "outputs": []
    },
    {
      "cell_type": "markdown",
      "metadata": {
        "id": "pIYmhUDdJ0ua"
      },
      "source": [
        "Using The Standard Random Tree Regression on the model"
      ]
    },
    {
      "cell_type": "code",
      "metadata": {
        "colab": {
          "base_uri": "https://localhost:8080/",
          "height": 645
        },
        "id": "G04-630j1zur",
        "outputId": "8547fe01-6fb1-41c1-9ee4-ca237495e3c9"
      },
      "source": [
        "model = RandomForestRegressor()\n",
        "model.fit(X,y)\n",
        "feature_imp = pd.DataFrame({'Feature': X.columns, 'Value': model.feature_importances_})\n",
        "feature_imp.sort_values(\"Value\", ascending=False)"
      ],
      "execution_count": 25,
      "outputs": [
        {
          "output_type": "execute_result",
          "data": {
            "text/html": [
              "<div>\n",
              "<style scoped>\n",
              "    .dataframe tbody tr th:only-of-type {\n",
              "        vertical-align: middle;\n",
              "    }\n",
              "\n",
              "    .dataframe tbody tr th {\n",
              "        vertical-align: top;\n",
              "    }\n",
              "\n",
              "    .dataframe thead th {\n",
              "        text-align: right;\n",
              "    }\n",
              "</style>\n",
              "<table border=\"1\" class=\"dataframe\">\n",
              "  <thead>\n",
              "    <tr style=\"text-align: right;\">\n",
              "      <th></th>\n",
              "      <th>Feature</th>\n",
              "      <th>Value</th>\n",
              "    </tr>\n",
              "  </thead>\n",
              "  <tbody>\n",
              "    <tr>\n",
              "      <th>8</th>\n",
              "      <td>CHits</td>\n",
              "      <td>0.310157</td>\n",
              "    </tr>\n",
              "    <tr>\n",
              "      <th>7</th>\n",
              "      <td>CAtBat</td>\n",
              "      <td>0.202705</td>\n",
              "    </tr>\n",
              "    <tr>\n",
              "      <th>10</th>\n",
              "      <td>CRuns</td>\n",
              "      <td>0.115231</td>\n",
              "    </tr>\n",
              "    <tr>\n",
              "      <th>0</th>\n",
              "      <td>AtBat</td>\n",
              "      <td>0.085549</td>\n",
              "    </tr>\n",
              "    <tr>\n",
              "      <th>1</th>\n",
              "      <td>Hits</td>\n",
              "      <td>0.051712</td>\n",
              "    </tr>\n",
              "    <tr>\n",
              "      <th>11</th>\n",
              "      <td>CRBI</td>\n",
              "      <td>0.046756</td>\n",
              "    </tr>\n",
              "    <tr>\n",
              "      <th>4</th>\n",
              "      <td>RBI</td>\n",
              "      <td>0.026541</td>\n",
              "    </tr>\n",
              "    <tr>\n",
              "      <th>3</th>\n",
              "      <td>Runs</td>\n",
              "      <td>0.021541</td>\n",
              "    </tr>\n",
              "    <tr>\n",
              "      <th>15</th>\n",
              "      <td>PutOuts</td>\n",
              "      <td>0.020858</td>\n",
              "    </tr>\n",
              "    <tr>\n",
              "      <th>9</th>\n",
              "      <td>CHmRun</td>\n",
              "      <td>0.018101</td>\n",
              "    </tr>\n",
              "    <tr>\n",
              "      <th>5</th>\n",
              "      <td>Walks</td>\n",
              "      <td>0.018091</td>\n",
              "    </tr>\n",
              "    <tr>\n",
              "      <th>16</th>\n",
              "      <td>Assists</td>\n",
              "      <td>0.017557</td>\n",
              "    </tr>\n",
              "    <tr>\n",
              "      <th>12</th>\n",
              "      <td>CWalks</td>\n",
              "      <td>0.016441</td>\n",
              "    </tr>\n",
              "    <tr>\n",
              "      <th>6</th>\n",
              "      <td>Years</td>\n",
              "      <td>0.015984</td>\n",
              "    </tr>\n",
              "    <tr>\n",
              "      <th>2</th>\n",
              "      <td>HmRun</td>\n",
              "      <td>0.011960</td>\n",
              "    </tr>\n",
              "    <tr>\n",
              "      <th>17</th>\n",
              "      <td>Errors</td>\n",
              "      <td>0.011239</td>\n",
              "    </tr>\n",
              "    <tr>\n",
              "      <th>18</th>\n",
              "      <td>NewLeague</td>\n",
              "      <td>0.005679</td>\n",
              "    </tr>\n",
              "    <tr>\n",
              "      <th>13</th>\n",
              "      <td>League</td>\n",
              "      <td>0.002242</td>\n",
              "    </tr>\n",
              "    <tr>\n",
              "      <th>14</th>\n",
              "      <td>Division</td>\n",
              "      <td>0.001657</td>\n",
              "    </tr>\n",
              "  </tbody>\n",
              "</table>\n",
              "</div>"
            ],
            "text/plain": [
              "      Feature     Value\n",
              "8       CHits  0.310157\n",
              "7      CAtBat  0.202705\n",
              "10      CRuns  0.115231\n",
              "0       AtBat  0.085549\n",
              "1        Hits  0.051712\n",
              "11       CRBI  0.046756\n",
              "4         RBI  0.026541\n",
              "3        Runs  0.021541\n",
              "15    PutOuts  0.020858\n",
              "9      CHmRun  0.018101\n",
              "5       Walks  0.018091\n",
              "16    Assists  0.017557\n",
              "12     CWalks  0.016441\n",
              "6       Years  0.015984\n",
              "2       HmRun  0.011960\n",
              "17     Errors  0.011239\n",
              "18  NewLeague  0.005679\n",
              "13     League  0.002242\n",
              "14   Division  0.001657"
            ]
          },
          "metadata": {},
          "execution_count": 25
        }
      ]
    },
    {
      "cell_type": "markdown",
      "metadata": {
        "id": "z2n9WyicJ9F_"
      },
      "source": [
        "**PCR** Inclusion by calculating the Eigen Values"
      ]
    },
    {
      "cell_type": "code",
      "metadata": {
        "id": "4PCC7mzJ12aS"
      },
      "source": [
        "from sklearn.decomposition import PCA\n",
        "XX = np.dot(X.transpose(),X)\n",
        "eig = np.linalg.eig(XX)\n",
        "eigv = eig[1]"
      ],
      "execution_count": 26,
      "outputs": []
    },
    {
      "cell_type": "code",
      "metadata": {
        "colab": {
          "base_uri": "https://localhost:8080/"
        },
        "id": "q2oxZ4jN9PEo",
        "outputId": "12dae421-9037-4b26-a813-1aa20a0ebc5f"
      },
      "source": [
        "print(eigv.shape)"
      ],
      "execution_count": 49,
      "outputs": [
        {
          "output_type": "stream",
          "name": "stdout",
          "text": [
            "(19, 19)\n"
          ]
        }
      ]
    },
    {
      "cell_type": "code",
      "metadata": {
        "colab": {
          "base_uri": "https://localhost:8080/"
        },
        "id": "eS8WwsS66pOH",
        "outputId": "799194f0-56d1-4d4f-82f0-f12b1807892f"
      },
      "source": [
        "U = eigv.T\n",
        "V = U[:]\n",
        "V.shape"
      ],
      "execution_count": 73,
      "outputs": [
        {
          "output_type": "execute_result",
          "data": {
            "text/plain": [
              "(19, 19)"
            ]
          },
          "metadata": {},
          "execution_count": 73
        }
      ]
    },
    {
      "cell_type": "code",
      "metadata": {
        "id": "w1k-COoM74es"
      },
      "source": [
        "W = np.dot(X,V.T)"
      ],
      "execution_count": 74,
      "outputs": []
    },
    {
      "cell_type": "code",
      "metadata": {
        "colab": {
          "base_uri": "https://localhost:8080/"
        },
        "id": "VK3Ldc0q8q96",
        "outputId": "613e4f9f-a83d-43e4-f61b-abcf54aa70db"
      },
      "source": [
        "print(W)"
      ],
      "execution_count": 75,
      "outputs": [
        {
          "output_type": "stream",
          "name": "stdout",
          "text": [
            "[[-0.45886736  1.71233702 -1.23717533 ...  0.1049995   0.02367922\n",
            "   0.05262856]\n",
            " [-0.54009996 -2.69489451  1.14518455 ...  0.02391845 -0.00445397\n",
            "  -0.02090975]\n",
            " [-4.03550856  0.39079188 -0.55546141 ... -0.25520724  0.05165965\n",
            "   0.01096132]\n",
            " ...\n",
            " [ 0.83259005 -0.79421423  0.89145298 ... -0.08750033 -0.00747414\n",
            "   0.08105635]\n",
            " [-2.08250233 -2.58067826  0.55484864 ... -0.01099011  0.00449637\n",
            "  -0.02209974]\n",
            " [-2.18292787 -0.62681296  1.04732563 ... -0.31595771  0.04024832\n",
            "  -0.07340995]]\n"
          ]
        }
      ]
    },
    {
      "cell_type": "code",
      "metadata": {
        "colab": {
          "base_uri": "https://localhost:8080/"
        },
        "id": "LyDsnvfA8FyO",
        "outputId": "ba3b52db-bb31-4b1b-feff-04d3bae4dbbb"
      },
      "source": [
        "model.fit(X,y)"
      ],
      "execution_count": 76,
      "outputs": [
        {
          "output_type": "execute_result",
          "data": {
            "text/plain": [
              "RandomForestRegressor()"
            ]
          },
          "metadata": {},
          "execution_count": 76
        }
      ]
    },
    {
      "cell_type": "markdown",
      "metadata": {
        "id": "4leJ2AVYKEPZ"
      },
      "source": [
        "The Model Ran good and gave better results than Random Forest Regression"
      ]
    }
  ]
}